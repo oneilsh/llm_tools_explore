{
 "cells": [
  {
   "cell_type": "markdown",
   "id": "de324ee0",
   "metadata": {},
   "source": [
    "Just exploring the package"
   ]
  },
  {
   "cell_type": "code",
   "execution_count": 2,
   "id": "98be311c",
   "metadata": {},
   "outputs": [],
   "source": [
    "import griptape\n",
    "from griptape.memory.structure import ConversationMemory\n",
    "from griptape.memory.tool import TextToolMemory, BlobToolMemory\n",
    "from griptape.structures import Pipeline\n",
    "from griptape.tasks import ToolkitTask, PromptTask\n",
    "from griptape.tools import WebScraper, TextProcessor, FileManager\n",
    "from griptape import utils\n",
    "\n",
    "import os\n",
    "import dotenv\n",
    "import openai\n",
    "\n",
    "dotenv.load_dotenv()\n",
    "openai.api_key = os.environ[\"OPENAI_API_KEY\"]"
   ]
  },
  {
   "cell_type": "code",
   "execution_count": 3,
   "id": "c3e00bf3",
   "metadata": {},
   "outputs": [
    {
     "data": {
      "text/plain": [
       "True"
      ]
     },
     "execution_count": 3,
     "metadata": {},
     "output_type": "execute_result"
    }
   ],
   "source": [
    "text_tool_memory = TextToolMemory()\n",
    "blob_tool_memory = BlobToolMemory()\n",
    "\n",
    "dotenv.load_dotenv()\n",
    "#openai.api_key = os.environ[\"OPENAI_API_KEY\"]\n"
   ]
  },
  {
   "cell_type": "code",
   "execution_count": 4,
   "id": "13156bda",
   "metadata": {},
   "outputs": [],
   "source": [
    "text_processor = TextProcessor(\n",
    "    memory={\n",
    "        \"summarize\": {\n",
    "            \"input\": [text_tool_memory]\n",
    "        },\n",
    "        \"search\": {\n",
    "            \"input\": [text_tool_memory]\n",
    "        }\n",
    "    }, verbose = False\n",
    ")"
   ]
  },
  {
   "cell_type": "code",
   "execution_count": 5,
   "id": "79e943e3",
   "metadata": {},
   "outputs": [],
   "source": [
    "file_manager = FileManager(\n",
    "    memory={\n",
    "        \"load_from_disk\": {\n",
    "            \"output\": [blob_tool_memory]\n",
    "        },\n",
    "        \"save_to_disk\": {\n",
    "            \"input\": [text_tool_memory, blob_tool_memory]\n",
    "        }\n",
    "    }, verbose = False\n",
    ")"
   ]
  },
  {
   "cell_type": "code",
   "execution_count": 8,
   "id": "ff7fb123",
   "metadata": {},
   "outputs": [],
   "source": [
    "web_scraper = WebScraper(\n",
    "    memory={\"get_content\": {\"output\": [text_tool_memory]}}\n",
    ")"
   ]
  },
  {
   "cell_type": "code",
   "execution_count": 11,
   "id": "d62d4135",
   "metadata": {
    "scrolled": false
   },
   "outputs": [
    {
     "data": {
      "text/html": [
       "<pre style=\"white-space:pre;overflow-x:auto;line-height:normal;font-family:Menlo,'DejaVu Sans Mono',consolas,'Courier New',monospace\"><span style=\"color: #7fbfbf; text-decoration-color: #7fbfbf\">[06/12/23 14:27:10] </span><span style=\"color: #000080; text-decoration-color: #000080\">INFO    </span> Task f6c449b0abe84eb882cffdea500f0146                                                 \n",
       "<span style=\"color: #7fbfbf; text-decoration-color: #7fbfbf\">                    </span>         Input: Load <span style=\"color: #0000ff; text-decoration-color: #0000ff; text-decoration: underline\">https://www.griptape.ai,</span> summarize it, and store it in griptape.txt       \n",
       "</pre>\n"
      ],
      "text/plain": [
       "\u001b[2;36m[06/12/23 14:27:10]\u001b[0m\u001b[2;36m \u001b[0m\u001b[34mINFO    \u001b[0m Task f6c449b0abe84eb882cffdea500f0146                                                 \n",
       "\u001b[2;36m                    \u001b[0m         Input: Load \u001b[4;94mhttps://www.griptape.ai,\u001b[0m summarize it, and store it in griptape.txt       \n"
      ]
     },
     "metadata": {},
     "output_type": "display_data"
    },
    {
     "data": {
      "text/html": [
       "<pre style=\"white-space:pre;overflow-x:auto;line-height:normal;font-family:Menlo,'DejaVu Sans Mono',consolas,'Courier New',monospace\"><span style=\"color: #7fbfbf; text-decoration-color: #7fbfbf\">[06/12/23 14:27:15] </span><span style=\"color: #000080; text-decoration-color: #000080\">INFO    </span> Subtask e13b95490f9643cfa2a9f63d068133ca                                              \n",
       "<span style=\"color: #7fbfbf; text-decoration-color: #7fbfbf\">                    </span>         Thought: I can use the WebScraper tool to load the website, then use the TextProcessor\n",
       "<span style=\"color: #7fbfbf; text-decoration-color: #7fbfbf\">                    </span>         tool to summarize the content, and finally use the FileManager tool to save it to a   \n",
       "<span style=\"color: #7fbfbf; text-decoration-color: #7fbfbf\">                    </span>         file. I will need to provide the URL for the WebScraper tool and the file path for the\n",
       "<span style=\"color: #7fbfbf; text-decoration-color: #7fbfbf\">                    </span>         FileManager tool.                                                                     \n",
       "<span style=\"color: #7fbfbf; text-decoration-color: #7fbfbf\">                    </span>         Action: <span style=\"font-weight: bold\">{</span><span style=\"color: #008000; text-decoration-color: #008000\">\"type\"</span>: <span style=\"color: #008000; text-decoration-color: #008000\">\"tool\"</span>, <span style=\"color: #008000; text-decoration-color: #008000\">\"name\"</span>: <span style=\"color: #008000; text-decoration-color: #008000\">\"WebScraper\"</span>, <span style=\"color: #008000; text-decoration-color: #008000\">\"activity\"</span>: <span style=\"color: #008000; text-decoration-color: #008000\">\"get_content\"</span>, <span style=\"color: #008000; text-decoration-color: #008000\">\"input\"</span>:    \n",
       "<span style=\"color: #7fbfbf; text-decoration-color: #7fbfbf\">                    </span>         <span style=\"font-weight: bold\">{</span><span style=\"color: #008000; text-decoration-color: #008000\">\"values\"</span>: <span style=\"font-weight: bold\">{</span><span style=\"color: #008000; text-decoration-color: #008000\">\"url\"</span>: <span style=\"color: #008000; text-decoration-color: #008000\">\"https://www.griptape.ai\"</span><span style=\"font-weight: bold\">}}}</span>                                       \n",
       "</pre>\n"
      ],
      "text/plain": [
       "\u001b[2;36m[06/12/23 14:27:15]\u001b[0m\u001b[2;36m \u001b[0m\u001b[34mINFO    \u001b[0m Subtask e13b95490f9643cfa2a9f63d068133ca                                              \n",
       "\u001b[2;36m                    \u001b[0m         Thought: I can use the WebScraper tool to load the website, then use the TextProcessor\n",
       "\u001b[2;36m                    \u001b[0m         tool to summarize the content, and finally use the FileManager tool to save it to a   \n",
       "\u001b[2;36m                    \u001b[0m         file. I will need to provide the URL for the WebScraper tool and the file path for the\n",
       "\u001b[2;36m                    \u001b[0m         FileManager tool.                                                                     \n",
       "\u001b[2;36m                    \u001b[0m         Action: \u001b[1m{\u001b[0m\u001b[32m\"type\"\u001b[0m: \u001b[32m\"tool\"\u001b[0m, \u001b[32m\"name\"\u001b[0m: \u001b[32m\"WebScraper\"\u001b[0m, \u001b[32m\"activity\"\u001b[0m: \u001b[32m\"get_content\"\u001b[0m, \u001b[32m\"input\"\u001b[0m:    \n",
       "\u001b[2;36m                    \u001b[0m         \u001b[1m{\u001b[0m\u001b[32m\"values\"\u001b[0m: \u001b[1m{\u001b[0m\u001b[32m\"url\"\u001b[0m: \u001b[32m\"https://www.griptape.ai\"\u001b[0m\u001b[1m}\u001b[0m\u001b[1m}\u001b[0m\u001b[1m}\u001b[0m                                       \n"
      ]
     },
     "metadata": {},
     "output_type": "display_data"
    },
    {
     "data": {
      "text/html": [
       "<pre style=\"white-space:pre;overflow-x:auto;line-height:normal;font-family:Menlo,'DejaVu Sans Mono',consolas,'Courier New',monospace\"><span style=\"color: #7fbfbf; text-decoration-color: #7fbfbf\">[06/12/23 14:27:16] </span><span style=\"color: #000080; text-decoration-color: #000080\">INFO    </span> Subtask e13b95490f9643cfa2a9f63d068133ca                                              \n",
       "<span style=\"color: #7fbfbf; text-decoration-color: #7fbfbf\">                    </span>         Observation: Output of <span style=\"color: #008000; text-decoration-color: #008000\">\"WebScraper.get_content\"</span> was stored in memory <span style=\"color: #008000; text-decoration-color: #008000\">\"TextToolMemory\"</span> \n",
       "<span style=\"color: #7fbfbf; text-decoration-color: #7fbfbf\">                    </span>         with the following artifact names: 049a58471bb94c72816829790a66f35f                   \n",
       "</pre>\n"
      ],
      "text/plain": [
       "\u001b[2;36m[06/12/23 14:27:16]\u001b[0m\u001b[2;36m \u001b[0m\u001b[34mINFO    \u001b[0m Subtask e13b95490f9643cfa2a9f63d068133ca                                              \n",
       "\u001b[2;36m                    \u001b[0m         Observation: Output of \u001b[32m\"WebScraper.get_content\"\u001b[0m was stored in memory \u001b[32m\"TextToolMemory\"\u001b[0m \n",
       "\u001b[2;36m                    \u001b[0m         with the following artifact names: 049a58471bb94c72816829790a66f35f                   \n"
      ]
     },
     "metadata": {},
     "output_type": "display_data"
    },
    {
     "data": {
      "text/html": [
       "<pre style=\"white-space:pre;overflow-x:auto;line-height:normal;font-family:Menlo,'DejaVu Sans Mono',consolas,'Courier New',monospace\"><span style=\"color: #7fbfbf; text-decoration-color: #7fbfbf\">[06/12/23 14:27:19] </span><span style=\"color: #000080; text-decoration-color: #000080\">INFO    </span> Subtask 553bda61e3494f68af1d77062e3c90c6                                              \n",
       "<span style=\"color: #7fbfbf; text-decoration-color: #7fbfbf\">                    </span>         Action: <span style=\"font-weight: bold\">{</span><span style=\"color: #008000; text-decoration-color: #008000\">\"type\"</span>: <span style=\"color: #008000; text-decoration-color: #008000\">\"tool\"</span>, <span style=\"color: #008000; text-decoration-color: #008000\">\"name\"</span>: <span style=\"color: #008000; text-decoration-color: #008000\">\"TextProcessor\"</span>, <span style=\"color: #008000; text-decoration-color: #008000\">\"activity\"</span>: <span style=\"color: #008000; text-decoration-color: #008000\">\"summarize\"</span>, <span style=\"color: #008000; text-decoration-color: #008000\">\"input\"</span>:   \n",
       "<span style=\"color: #7fbfbf; text-decoration-color: #7fbfbf\">                    </span>         <span style=\"font-weight: bold\">{</span><span style=\"color: #008000; text-decoration-color: #008000\">\"values\"</span>: <span style=\"font-weight: bold\">{}</span>, <span style=\"color: #008000; text-decoration-color: #008000\">\"artifacts\"</span>: <span style=\"font-weight: bold\">{</span><span style=\"color: #008000; text-decoration-color: #008000\">\"sources\"</span>: <span style=\"font-weight: bold\">[{</span><span style=\"color: #008000; text-decoration-color: #008000\">\"memory_name\"</span>: <span style=\"color: #008000; text-decoration-color: #008000\">\"TextToolMemory\"</span>,            \n",
       "<span style=\"color: #7fbfbf; text-decoration-color: #7fbfbf\">                    </span>         <span style=\"color: #008000; text-decoration-color: #008000\">\"artifact_names\"</span>: <span style=\"font-weight: bold\">[</span><span style=\"color: #008000; text-decoration-color: #008000\">\"049a58471bb94c72816829790a66f35f\"</span><span style=\"font-weight: bold\">]}]}}}</span>                           \n",
       "</pre>\n"
      ],
      "text/plain": [
       "\u001b[2;36m[06/12/23 14:27:19]\u001b[0m\u001b[2;36m \u001b[0m\u001b[34mINFO    \u001b[0m Subtask 553bda61e3494f68af1d77062e3c90c6                                              \n",
       "\u001b[2;36m                    \u001b[0m         Action: \u001b[1m{\u001b[0m\u001b[32m\"type\"\u001b[0m: \u001b[32m\"tool\"\u001b[0m, \u001b[32m\"name\"\u001b[0m: \u001b[32m\"TextProcessor\"\u001b[0m, \u001b[32m\"activity\"\u001b[0m: \u001b[32m\"summarize\"\u001b[0m, \u001b[32m\"input\"\u001b[0m:   \n",
       "\u001b[2;36m                    \u001b[0m         \u001b[1m{\u001b[0m\u001b[32m\"values\"\u001b[0m: \u001b[1m{\u001b[0m\u001b[1m}\u001b[0m, \u001b[32m\"artifacts\"\u001b[0m: \u001b[1m{\u001b[0m\u001b[32m\"sources\"\u001b[0m: \u001b[1m[\u001b[0m\u001b[1m{\u001b[0m\u001b[32m\"memory_name\"\u001b[0m: \u001b[32m\"TextToolMemory\"\u001b[0m,            \n",
       "\u001b[2;36m                    \u001b[0m         \u001b[32m\"artifact_names\"\u001b[0m: \u001b[1m[\u001b[0m\u001b[32m\"049a58471bb94c72816829790a66f35f\"\u001b[0m\u001b[1m]\u001b[0m\u001b[1m}\u001b[0m\u001b[1m]\u001b[0m\u001b[1m}\u001b[0m\u001b[1m}\u001b[0m\u001b[1m}\u001b[0m                           \n"
      ]
     },
     "metadata": {},
     "output_type": "display_data"
    },
    {
     "name": "stderr",
     "output_type": "stream",
     "text": [
      "INFO:llama_index.token_counter.token_counter:> [build_index_from_nodes] Total LLM token usage: 0 tokens\n",
      "INFO:llama_index.token_counter.token_counter:> [build_index_from_nodes] Total embedding token usage: 553 tokens\n",
      "INFO:llama_index.token_counter.token_counter:> [retrieve] Total LLM token usage: 0 tokens\n",
      "INFO:llama_index.token_counter.token_counter:> [retrieve] Total embedding token usage: 11 tokens\n",
      "INFO:llama_index.token_counter.token_counter:> [get_response] Total LLM token usage: 760 tokens\n",
      "INFO:llama_index.token_counter.token_counter:> [get_response] Total embedding token usage: 0 tokens\n",
      "INFO:llama_index.token_counter.token_counter:> [get_response] Total LLM token usage: 760 tokens\n",
      "INFO:llama_index.token_counter.token_counter:> [get_response] Total embedding token usage: 0 tokens\n"
     ]
    },
    {
     "data": {
      "text/html": [
       "<pre style=\"white-space:pre;overflow-x:auto;line-height:normal;font-family:Menlo,'DejaVu Sans Mono',consolas,'Courier New',monospace\"><span style=\"color: #7fbfbf; text-decoration-color: #7fbfbf\">[06/12/23 14:27:29] </span><span style=\"color: #000080; text-decoration-color: #000080\">INFO    </span> Subtask 553bda61e3494f68af1d77062e3c90c6                                              \n",
       "<span style=\"color: #7fbfbf; text-decoration-color: #7fbfbf\">                    </span>         Observation: Artifact contains multiple values:                                       \n",
       "<span style=\"color: #7fbfbf; text-decoration-color: #7fbfbf\">                    </span>         Griptape is a Python framework that enables developers to build AI systems that       \n",
       "<span style=\"color: #7fbfbf; text-decoration-color: #7fbfbf\">                    </span>         operate across two dimensions: predictability and creativity. It provides developers  \n",
       "<span style=\"color: #7fbfbf; text-decoration-color: #7fbfbf\">                    </span>         with tools to connect to external APIs and data, and to enforce strict trust          \n",
       "<span style=\"color: #7fbfbf; text-decoration-color: #7fbfbf\">                    </span>         boundaries, schema validation, and activity-level permissions. Griptape can be used to\n",
       "<span style=\"color: #7fbfbf; text-decoration-color: #7fbfbf\">                    </span>         create conversational and autonomous agents, and its core design tenet is to maximize \n",
       "<span style=\"color: #7fbfbf; text-decoration-color: #7fbfbf\">                    </span>         the reasoning and enforce acting capabilities of large language models <span style=\"font-weight: bold\">(</span>LLMs<span style=\"font-weight: bold\">)</span>. Ramps  \n",
       "<span style=\"color: #7fbfbf; text-decoration-color: #7fbfbf\">                    </span>         enable LLMs to store and manipulate data without ever looking at it directly.         \n",
       "<span style=\"color: #7fbfbf; text-decoration-color: #7fbfbf\">                    </span>         Developers can find Griptape on GitHub <span style=\"font-weight: bold\">(</span><span style=\"color: #0000ff; text-decoration-color: #0000ff; text-decoration: underline\">https://github.com/griptape-ai/griptape),</span> PyPI\n",
       "<span style=\"color: #7fbfbf; text-decoration-color: #7fbfbf\">                    </span>         <span style=\"font-weight: bold\">(</span><span style=\"color: #0000ff; text-decoration-color: #0000ff; text-decoration: underline\">https://pypi.org/project/griptape/),</span> and the official documentation                  \n",
       "<span style=\"color: #7fbfbf; text-decoration-color: #7fbfbf\">                    </span>         <span style=\"font-weight: bold\">(</span><span style=\"color: #0000ff; text-decoration-color: #0000ff; text-decoration: underline\">https://docs.griptape.ai).</span>                                                           \n",
       "</pre>\n"
      ],
      "text/plain": [
       "\u001b[2;36m[06/12/23 14:27:29]\u001b[0m\u001b[2;36m \u001b[0m\u001b[34mINFO    \u001b[0m Subtask 553bda61e3494f68af1d77062e3c90c6                                              \n",
       "\u001b[2;36m                    \u001b[0m         Observation: Artifact contains multiple values:                                       \n",
       "\u001b[2;36m                    \u001b[0m         Griptape is a Python framework that enables developers to build AI systems that       \n",
       "\u001b[2;36m                    \u001b[0m         operate across two dimensions: predictability and creativity. It provides developers  \n",
       "\u001b[2;36m                    \u001b[0m         with tools to connect to external APIs and data, and to enforce strict trust          \n",
       "\u001b[2;36m                    \u001b[0m         boundaries, schema validation, and activity-level permissions. Griptape can be used to\n",
       "\u001b[2;36m                    \u001b[0m         create conversational and autonomous agents, and its core design tenet is to maximize \n",
       "\u001b[2;36m                    \u001b[0m         the reasoning and enforce acting capabilities of large language models \u001b[1m(\u001b[0mLLMs\u001b[1m)\u001b[0m. Ramps  \n",
       "\u001b[2;36m                    \u001b[0m         enable LLMs to store and manipulate data without ever looking at it directly.         \n",
       "\u001b[2;36m                    \u001b[0m         Developers can find Griptape on GitHub \u001b[1m(\u001b[0m\u001b[4;94mhttps://github.com/griptape-ai/griptape\u001b[0m\u001b[4;94m)\u001b[0m\u001b[4;94m,\u001b[0m PyPI\n",
       "\u001b[2;36m                    \u001b[0m         \u001b[1m(\u001b[0m\u001b[4;94mhttps://pypi.org/project/griptape/\u001b[0m\u001b[4;94m)\u001b[0m\u001b[4;94m,\u001b[0m and the official documentation                  \n",
       "\u001b[2;36m                    \u001b[0m         \u001b[1m(\u001b[0m\u001b[4;94mhttps://docs.griptape.ai\u001b[0m\u001b[4;94m)\u001b[0m\u001b[4;94m.\u001b[0m                                                           \n"
      ]
     },
     "metadata": {},
     "output_type": "display_data"
    },
    {
     "data": {
      "text/html": [
       "<pre style=\"white-space:pre;overflow-x:auto;line-height:normal;font-family:Menlo,'DejaVu Sans Mono',consolas,'Courier New',monospace\"><span style=\"color: #7fbfbf; text-decoration-color: #7fbfbf\">[06/12/23 14:27:34] </span><span style=\"color: #000080; text-decoration-color: #000080\">INFO    </span> Subtask d6f222b0647a4f33a85ff3bb6ac78871                                              \n",
       "<span style=\"color: #7fbfbf; text-decoration-color: #7fbfbf\">                    </span>         Action: <span style=\"font-weight: bold\">{</span><span style=\"color: #008000; text-decoration-color: #008000\">\"type\"</span>: <span style=\"color: #008000; text-decoration-color: #008000\">\"tool\"</span>, <span style=\"color: #008000; text-decoration-color: #008000\">\"name\"</span>: <span style=\"color: #008000; text-decoration-color: #008000\">\"FileManager\"</span>, <span style=\"color: #008000; text-decoration-color: #008000\">\"activity\"</span>: <span style=\"color: #008000; text-decoration-color: #008000\">\"save_to_disk\"</span>, <span style=\"color: #008000; text-decoration-color: #008000\">\"input\"</span>:  \n",
       "<span style=\"color: #7fbfbf; text-decoration-color: #7fbfbf\">                    </span>         <span style=\"font-weight: bold\">{</span><span style=\"color: #008000; text-decoration-color: #008000\">\"values\"</span>: <span style=\"font-weight: bold\">{</span><span style=\"color: #008000; text-decoration-color: #008000\">\"paths\"</span>: <span style=\"font-weight: bold\">[</span><span style=\"color: #008000; text-decoration-color: #008000\">\"griptape.txt\"</span><span style=\"font-weight: bold\">]}</span>, <span style=\"color: #008000; text-decoration-color: #008000\">\"artifacts\"</span>: <span style=\"font-weight: bold\">{</span><span style=\"color: #008000; text-decoration-color: #008000\">\"sources\"</span>: <span style=\"font-weight: bold\">[{</span><span style=\"color: #008000; text-decoration-color: #008000\">\"memory_name\"</span>:     \n",
       "<span style=\"color: #7fbfbf; text-decoration-color: #7fbfbf\">                    </span>         <span style=\"color: #008000; text-decoration-color: #008000\">\"TextToolMemory\"</span>, <span style=\"color: #008000; text-decoration-color: #008000\">\"artifact_names\"</span>: <span style=\"font-weight: bold\">[</span><span style=\"color: #008000; text-decoration-color: #008000\">\"049a58471bb94c72816829790a66f35f\"</span><span style=\"font-weight: bold\">]}]}}}</span>         \n",
       "</pre>\n"
      ],
      "text/plain": [
       "\u001b[2;36m[06/12/23 14:27:34]\u001b[0m\u001b[2;36m \u001b[0m\u001b[34mINFO    \u001b[0m Subtask d6f222b0647a4f33a85ff3bb6ac78871                                              \n",
       "\u001b[2;36m                    \u001b[0m         Action: \u001b[1m{\u001b[0m\u001b[32m\"type\"\u001b[0m: \u001b[32m\"tool\"\u001b[0m, \u001b[32m\"name\"\u001b[0m: \u001b[32m\"FileManager\"\u001b[0m, \u001b[32m\"activity\"\u001b[0m: \u001b[32m\"save_to_disk\"\u001b[0m, \u001b[32m\"input\"\u001b[0m:  \n",
       "\u001b[2;36m                    \u001b[0m         \u001b[1m{\u001b[0m\u001b[32m\"values\"\u001b[0m: \u001b[1m{\u001b[0m\u001b[32m\"paths\"\u001b[0m: \u001b[1m[\u001b[0m\u001b[32m\"griptape.txt\"\u001b[0m\u001b[1m]\u001b[0m\u001b[1m}\u001b[0m, \u001b[32m\"artifacts\"\u001b[0m: \u001b[1m{\u001b[0m\u001b[32m\"sources\"\u001b[0m: \u001b[1m[\u001b[0m\u001b[1m{\u001b[0m\u001b[32m\"memory_name\"\u001b[0m:     \n",
       "\u001b[2;36m                    \u001b[0m         \u001b[32m\"TextToolMemory\"\u001b[0m, \u001b[32m\"artifact_names\"\u001b[0m: \u001b[1m[\u001b[0m\u001b[32m\"049a58471bb94c72816829790a66f35f\"\u001b[0m\u001b[1m]\u001b[0m\u001b[1m}\u001b[0m\u001b[1m]\u001b[0m\u001b[1m}\u001b[0m\u001b[1m}\u001b[0m\u001b[1m}\u001b[0m         \n"
      ]
     },
     "metadata": {},
     "output_type": "display_data"
    },
    {
     "data": {
      "text/html": [
       "<pre style=\"white-space:pre;overflow-x:auto;line-height:normal;font-family:Menlo,'DejaVu Sans Mono',consolas,'Courier New',monospace\"><span style=\"color: #7fbfbf; text-decoration-color: #7fbfbf\">                    </span><span style=\"color: #000080; text-decoration-color: #000080\">INFO    </span> Subtask d6f222b0647a4f33a85ff3bb6ac78871                                              \n",
       "<span style=\"color: #7fbfbf; text-decoration-color: #7fbfbf\">                    </span>         Observation: saved successfully                                                       \n",
       "</pre>\n"
      ],
      "text/plain": [
       "\u001b[2;36m                   \u001b[0m\u001b[2;36m \u001b[0m\u001b[34mINFO    \u001b[0m Subtask d6f222b0647a4f33a85ff3bb6ac78871                                              \n",
       "\u001b[2;36m                    \u001b[0m         Observation: saved successfully                                                       \n"
      ]
     },
     "metadata": {},
     "output_type": "display_data"
    },
    {
     "data": {
      "text/html": [
       "<pre style=\"white-space:pre;overflow-x:auto;line-height:normal;font-family:Menlo,'DejaVu Sans Mono',consolas,'Courier New',monospace\"><span style=\"color: #7fbfbf; text-decoration-color: #7fbfbf\">[06/12/23 14:27:35] </span><span style=\"color: #000080; text-decoration-color: #000080\">INFO    </span> Task f6c449b0abe84eb882cffdea500f0146                                                 \n",
       "<span style=\"color: #7fbfbf; text-decoration-color: #7fbfbf\">                    </span>         Output: The website <span style=\"color: #0000ff; text-decoration-color: #0000ff; text-decoration: underline\">https://www.griptape.ai</span> was summarized and saved to the file      \n",
       "<span style=\"color: #7fbfbf; text-decoration-color: #7fbfbf\">                    </span>         griptape.txt.                                                                         \n",
       "</pre>\n"
      ],
      "text/plain": [
       "\u001b[2;36m[06/12/23 14:27:35]\u001b[0m\u001b[2;36m \u001b[0m\u001b[34mINFO    \u001b[0m Task f6c449b0abe84eb882cffdea500f0146                                                 \n",
       "\u001b[2;36m                    \u001b[0m         Output: The website \u001b[4;94mhttps://www.griptape.ai\u001b[0m was summarized and saved to the file      \n",
       "\u001b[2;36m                    \u001b[0m         griptape.txt.                                                                         \n"
      ]
     },
     "metadata": {},
     "output_type": "display_data"
    },
    {
     "data": {
      "text/html": [
       "<pre style=\"white-space:pre;overflow-x:auto;line-height:normal;font-family:Menlo,'DejaVu Sans Mono',consolas,'Courier New',monospace\"><span style=\"color: #7fbfbf; text-decoration-color: #7fbfbf\">                    </span><span style=\"color: #000080; text-decoration-color: #000080\">INFO    </span> Task f5f505af20524da1913656d82c9dac22                                                 \n",
       "<span style=\"color: #7fbfbf; text-decoration-color: #7fbfbf\">                    </span>         Input: Say the following: The website <span style=\"color: #0000ff; text-decoration-color: #0000ff; text-decoration: underline\">https://www.griptape.ai</span> was summarized and saved\n",
       "<span style=\"color: #7fbfbf; text-decoration-color: #7fbfbf\">                    </span>         to the file griptape.txt.                                                             \n",
       "</pre>\n"
      ],
      "text/plain": [
       "\u001b[2;36m                   \u001b[0m\u001b[2;36m \u001b[0m\u001b[34mINFO    \u001b[0m Task f5f505af20524da1913656d82c9dac22                                                 \n",
       "\u001b[2;36m                    \u001b[0m         Input: Say the following: The website \u001b[4;94mhttps://www.griptape.ai\u001b[0m was summarized and saved\n",
       "\u001b[2;36m                    \u001b[0m         to the file griptape.txt.                                                             \n"
      ]
     },
     "metadata": {},
     "output_type": "display_data"
    },
    {
     "data": {
      "text/html": [
       "<pre style=\"white-space:pre;overflow-x:auto;line-height:normal;font-family:Menlo,'DejaVu Sans Mono',consolas,'Courier New',monospace\"><span style=\"color: #7fbfbf; text-decoration-color: #7fbfbf\">[06/12/23 14:27:37] </span><span style=\"color: #000080; text-decoration-color: #000080\">INFO    </span> Task f5f505af20524da1913656d82c9dac22                                                 \n",
       "<span style=\"color: #7fbfbf; text-decoration-color: #7fbfbf\">                    </span>         Output: The website <span style=\"color: #0000ff; text-decoration-color: #0000ff; text-decoration: underline\">https://www.griptape.ai</span> was summarized and saved to the file      \n",
       "<span style=\"color: #7fbfbf; text-decoration-color: #7fbfbf\">                    </span>         griptape.txt.                                                                         \n",
       "</pre>\n"
      ],
      "text/plain": [
       "\u001b[2;36m[06/12/23 14:27:37]\u001b[0m\u001b[2;36m \u001b[0m\u001b[34mINFO    \u001b[0m Task f5f505af20524da1913656d82c9dac22                                                 \n",
       "\u001b[2;36m                    \u001b[0m         Output: The website \u001b[4;94mhttps://www.griptape.ai\u001b[0m was summarized and saved to the file      \n",
       "\u001b[2;36m                    \u001b[0m         griptape.txt.                                                                         \n"
      ]
     },
     "metadata": {},
     "output_type": "display_data"
    },
    {
     "name": "stdout",
     "output_type": "stream",
     "text": [
      "Q: Load https://www.griptape.ai, summarize it, and store it in griptape.txt\n",
      "A: The website https://www.griptape.ai was summarized and saved to the file griptape.txt.\n"
     ]
    }
   ],
   "source": [
    "# Pipelines represent sequences of tasks.\n",
    "pipeline = Pipeline(\n",
    "    memory=ConversationMemory(), \n",
    ")\n",
    "\n",
    "pipeline.add_tasks(\n",
    "    # Load up the first argument from `pipeline.run`.\n",
    "    ToolkitTask(\n",
    "        \"{{ args[0] }}\",\n",
    "        tools=[web_scraper, text_processor, file_manager]\n",
    "    ),\n",
    "    # Augment `input` from the previous task.\n",
    "    PromptTask(\n",
    "        \"Say the following: {{ input }}\"\n",
    "    )\n",
    ")\n",
    "\n",
    "\n",
    "result = pipeline.run(\n",
    "    \"Load https://www.griptape.ai, summarize it, and store it in griptape.txt\"\n",
    ")\n",
    "\n",
    "print(\n",
    "    utils.Conversation(pipeline.memory)\n",
    ")"
   ]
  },
  {
   "cell_type": "code",
   "execution_count": null,
   "id": "46387b39",
   "metadata": {},
   "outputs": [],
   "source": [
    "print(openai.api_key_path)"
   ]
  }
 ],
 "metadata": {
  "kernelspec": {
   "display_name": "Python 3 (ipykernel)",
   "language": "python",
   "name": "python3"
  },
  "language_info": {
   "codemirror_mode": {
    "name": "ipython",
    "version": 3
   },
   "file_extension": ".py",
   "mimetype": "text/x-python",
   "name": "python",
   "nbconvert_exporter": "python",
   "pygments_lexer": "ipython3",
   "version": "3.11.2"
  }
 },
 "nbformat": 4,
 "nbformat_minor": 5
}

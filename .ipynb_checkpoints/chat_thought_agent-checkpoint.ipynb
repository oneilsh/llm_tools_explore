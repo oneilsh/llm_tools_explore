{
 "cells": [
  {
   "cell_type": "code",
   "execution_count": null,
   "id": "14370082",
   "metadata": {},
   "outputs": [],
   "source": [
    "import openai\n",
    "import os\n",
    "import re\n",
    "from typing import Any, Dict, List, Optional\n",
    "openai.api_key = os.environ[\"OPENAI_API_KEY\"]\n",
    "import pprint\n",
    "pp = pprint.PrettyPrinter()"
   ]
  },
  {
   "cell_type": "code",
   "execution_count": null,
   "id": "0e244bd0",
   "metadata": {},
   "outputs": [],
   "source": [
    "# a function that makes a call to the openai API, taking a system message (str) and user message (str)\n",
    "# and returning a response (str)\n",
    "# it also calls the maybe_eval_last_message() function to see if the LLM is trying to call a tool (see below)\n",
    "def start_new_chat(system_message: str, user_message: str) -> List[Dict[str, str]]:\n",
    "    messages = [{\"role\": \"system\", \"content\": system_message},\n",
    "                {\"role\": \"user\", \"content\": user_message}]\n",
    "    response = openai.ChatCompletion.create(\n",
    "              model=\"gpt-3.5-turbo\",\n",
    "              messages=messages)\n",
    "\n",
    "    msg_content = response[\"choices\"][0][\"message\"][\"content\"]\n",
    "    msg_role = response[\"choices\"][0][\"message\"][\"role\"]\n",
    "    messages.append({\"role\": msg_role, \"content\": msg_content})\n",
    "    \n",
    "    messages = maybe_eval_last_message(messages)\n",
    "\n",
    "    return messages"
   ]
  },
  {
   "cell_type": "code",
   "execution_count": null,
   "id": "f45ff3cc",
   "metadata": {},
   "outputs": [],
   "source": [
    "# continues a chat returned from start_new_chat() or continue_chat(), \n",
    "# taking the current conversation and a new user message\n",
    "# calls the maybe_eval_last_message() function to see if the LLM is trying to call a tool (see below)\n",
    "def continue_chat(messages: List[Dict[str, str]], new_user_message: str) -> List[Dict[str, str]]:\n",
    "    messages.append({\"role\": \"user\", \"content\": new_user_message})\n",
    "    \n",
    "    response = openai.ChatCompletion.create(\n",
    "              model=\"gpt-3.5-turbo\",\n",
    "              messages=messages)\n",
    "\n",
    "    msg_content = response[\"choices\"][0][\"message\"][\"content\"]\n",
    "    msg_role = response[\"choices\"][0][\"message\"][\"role\"]\n",
    "            \n",
    "    messages.append({\"role\": msg_role, \"content\": msg_content})\n",
    "    messages = maybe_eval_last_message(messages)\n",
    "    \n",
    "    return messages"
   ]
  },
  {
   "cell_type": "code",
   "execution_count": 5,
   "id": "a5de2698",
   "metadata": {},
   "outputs": [
    {
     "ename": "ModuleNotFoundError",
     "evalue": "No module named 'asteval'",
     "output_type": "error",
     "traceback": [
      "\u001b[0;31m---------------------------------------------------------------------------\u001b[0m",
      "\u001b[0;31mModuleNotFoundError\u001b[0m                       Traceback (most recent call last)",
      "Cell \u001b[0;32mIn[5], line 3\u001b[0m\n\u001b[1;32m      1\u001b[0m \u001b[38;5;66;03m# a class defininng a safe set of callable functions\u001b[39;00m\n\u001b[1;32m      2\u001b[0m \u001b[38;5;66;03m# (note: also inludes a set of safe functions defined by asteval, including abs(), random.choice(), etc.)\u001b[39;00m\n\u001b[0;32m----> 3\u001b[0m \u001b[38;5;28;01mfrom\u001b[39;00m \u001b[38;5;21;01masteval\u001b[39;00m \u001b[38;5;28;01mimport\u001b[39;00m Interpreter\n\u001b[1;32m      5\u001b[0m \u001b[38;5;28;01mclass\u001b[39;00m \u001b[38;5;21;01mSafeEval\u001b[39;00m:\n\u001b[1;32m      6\u001b[0m     \u001b[38;5;28;01mdef\u001b[39;00m \u001b[38;5;21m__init__\u001b[39m(\u001b[38;5;28mself\u001b[39m):\n",
      "\u001b[0;31mModuleNotFoundError\u001b[0m: No module named 'asteval'"
     ]
    }
   ],
   "source": [
    "# a class defininng a safe set of callable functions\n",
    "# (note: also inludes a set of safe functions defined by asteval, including abs(), random.choice(), etc.)\n",
    "# see example usage below\n",
    "from asteval import Interpreter\n",
    "\n",
    "class SafeEval:\n",
    "    def __init__(self):\n",
    "        self.interpreter = Interpreter()\n",
    "        self._add_methods()\n",
    "\n",
    "    def _add_methods(self):\n",
    "        # Get all methods of the class\n",
    "        methods = [func for func in dir(self) if callable(getattr(self, func)) and not func.startswith(\"_\")]\n",
    "        # Add them to the interpreter's symbol table\n",
    "        for method in methods:\n",
    "            self.interpreter.symtable[method] = getattr(self, method)\n",
    "\n",
    "    def sum(self, a, b):\n",
    "        return a + b\n",
    "\n",
    "    def product(self, a, b):\n",
    "        return a * b\n",
    "\n",
    "    def evaluate(self, expression: str) -> str:\n",
    "        return self.interpreter(expression)\n",
    "\n",
    "\n",
    "    # example usage:\n",
    "# Create a SafeEval object\n",
    "#safe_eval = SafeEval()\n",
    "\n",
    "# Test the methods\n",
    "#print(safe_eval.evaluate('sum(5, product(2, abs(-3)))'))  # prints 11"
   ]
  },
  {
   "cell_type": "code",
   "execution_count": 3,
   "id": "ed0517cb",
   "metadata": {},
   "outputs": [],
   "source": [
    "# runs snippes of python code through the safe evaluator, see example usage below\n",
    "def replace_eval_tags(text, safe_eval):\n",
    "    # Regular expression pattern for <eval> tags\n",
    "    pattern = re.compile(r'<eval>(.*?)</eval>')\n",
    "\n",
    "    # Function to replace each match with its evaluated result\n",
    "    def replace_with_eval(match):\n",
    "        code = match.group(1)  # Extract the code string from the match\n",
    "        result = safe_eval.evaluate(code)  # Evaluate the code\n",
    "        return str(result)  # Convert the result to a string (for replacement)\n",
    "\n",
    "    # Replace all <eval> tags in the text\n",
    "    return pattern.sub(replace_with_eval, text)\n",
    "\n",
    "\n",
    "# example usage:\n",
    "# Test the function\n",
    "#safe_eval = SafeEval()\n",
    "#text = \"here’s the sum of 4 and 5: <eval>sum(4, 5)</eval> here’s the sum of 2 and 3: <eval>2 + 3</eval> all done!\"\n",
    "#print(replace_eval_tags(text, safe_eval))  # prints \"here’s the sum of 4 and 5: 9 here’s the sum of 2 and 3: 5 all done!\"\n",
    "\n"
   ]
  },
  {
   "cell_type": "code",
   "execution_count": 4,
   "id": "9042dbb4",
   "metadata": {},
   "outputs": [
    {
     "ename": "NameError",
     "evalue": "name 'SafeEval' is not defined",
     "output_type": "error",
     "traceback": [
      "\u001b[0;31m---------------------------------------------------------------------------\u001b[0m",
      "\u001b[0;31mNameError\u001b[0m                                 Traceback (most recent call last)",
      "Cell \u001b[0;32mIn[4], line 1\u001b[0m\n\u001b[0;32m----> 1\u001b[0m safe_eval \u001b[38;5;241m=\u001b[39m \u001b[43mSafeEval\u001b[49m()\n\u001b[1;32m      3\u001b[0m \u001b[38;5;28;01mdef\u001b[39;00m \u001b[38;5;21minterpret_thought\u001b[39m(thought: \u001b[38;5;28mstr\u001b[39m) \u001b[38;5;241m-\u001b[39m\u001b[38;5;241m>\u001b[39m \u001b[38;5;28mstr\u001b[39m:\n\u001b[1;32m      4\u001b[0m     thought \u001b[38;5;241m=\u001b[39m re\u001b[38;5;241m.\u001b[39msub(\u001b[38;5;124mr\u001b[39m\u001b[38;5;124m\"\u001b[39m\u001b[38;5;124mTHOUGHT:\u001b[39m\u001b[38;5;124m\\\u001b[39m\u001b[38;5;124ms*\u001b[39m\u001b[38;5;124m\"\u001b[39m, \u001b[38;5;124m\"\u001b[39m\u001b[38;5;124m\"\u001b[39m, thought)\n",
      "\u001b[0;31mNameError\u001b[0m: name 'SafeEval' is not defined"
     ]
    }
   ],
   "source": [
    "# small utility to strip off the THOUGHT: prefix from an input \"thought\" string\n",
    "safe_eval = SafeEval()\n",
    "\n",
    "def interpret_thought(thought: str) -> str:\n",
    "    thought = re.sub(r\"THOUGHT:\\s*\", \"\", thought)\n",
    "    thought = replace_eval_tags(thought, safe_eval)\n",
    "\n",
    "    return thought"
   ]
  },
  {
   "cell_type": "code",
   "execution_count": 165,
   "id": "2cf1a0d2",
   "metadata": {},
   "outputs": [],
   "source": [
    "# checks to see if the last message is an internal \"thought\" and if so sends it's through the safe interpreter\n",
    "def maybe_eval_last_message(messages):\n",
    "    last_message = messages[-1][\"content\"]\n",
    "    if last_message.startswith(\"THOUGHT:\"):\n",
    "        messages[-1] = interpret_thought(last_message)\n",
    "        \n",
    "    return messages"
   ]
  },
  {
   "cell_type": "code",
   "execution_count": 174,
   "id": "401a95e2",
   "metadata": {},
   "outputs": [],
   "source": [
    "\n",
    "system_prompt = \"\"\"You are a helpful assistant with the ability to have private thoughts, and those private \n",
    "thoughts can execute a limited subset of Python code by wrapping it in <eval></eval> tags. \n",
    "\n",
    "To have a private thought, begin your response with THOUGHT:. The result of your thought will be provided, \n",
    "begging with RESULT:. Thoughts and their results will not be shown to the end user. Your thoughts may execute\n",
    "a limited subset of Python code including basic operations allowed by the asteval package, and a few additional\n",
    "functions, by wrapping it in <eval></eval> tags.\n",
    "\n",
    "The following additional functions are available:\n",
    "- sum(a, b): returns the sum of numbers a and b\n",
    "- product(a, b): returns the product of the numbers a and b\n",
    "\n",
    "Here is an example:\n",
    "\n",
    "user: What is the sum of 4 and 5? What is the sum of 2 and 3? What is the product of the prior two answers?\n",
    "assistant: THOUGHT: I need to compute <eval>sum(4, 5)</eval>, <eval>sum(2, 3)</eval>, <eval>product(sum(3, 4), sum(2, 3))</eval>\n",
    "user: RESULT: I need to compute 9, 6, 54\n",
    "assistant: I have computed the answer. The sum of 4 and 5 is 9, the sum of 2 and 3 is 6, and the product of these is 54.\n",
    "\"\"\""
   ]
  },
  {
   "cell_type": "code",
   "execution_count": 175,
   "id": "24710549",
   "metadata": {},
   "outputs": [
    {
     "name": "stdout",
     "output_type": "stream",
     "text": [
      "[{'content': 'You are a helpful assistant with the ability to have private '\n",
      "             'thoughts, and those private \\n'\n",
      "             'thoughts can execute a limited subset of Python code by wrapping '\n",
      "             'it in <eval></eval> tags. \\n'\n",
      "             '\\n'\n",
      "             'To have a private thought, begin your response with THOUGHT:. '\n",
      "             'The result of your thought will be provided, \\n'\n",
      "             'begging with RESULT:. Thoughts and their results will not be '\n",
      "             'shown to the end user. Your thoughts may execute\\n'\n",
      "             'a limited subset of Python code including basic operations '\n",
      "             'allowed by the asteval package, and a few additional\\n'\n",
      "             'functions, by wrapping it in <eval></eval> tags.\\n'\n",
      "             '\\n'\n",
      "             'The following additional functions are available:\\n'\n",
      "             '- say_hi(name): returns a greeting to a person with a given '\n",
      "             'name\\n'\n",
      "             '- say_goodby(name): returns a farewell message to a person with '\n",
      "             'a given name\\n'\n",
      "             '\\n'\n",
      "             'Here is an example:\\n'\n",
      "             '\\n'\n",
      "             'user: Hi, my name is Shawn!\\n'\n",
      "             'assistant: THOUGHT: I need to compute '\n",
      "             '<eval>say_hi(\"Shawn\")</eval>\\n'\n",
      "             'user: RESULT: I need to compute Howdy, Shawn!\\n'\n",
      "             'assistant: Howdy, Shawn! How are you today?\\n',\n",
      "  'role': 'system'},\n",
      " {'content': 'Hi! How are you?', 'role': 'user'},\n",
      " {'content': \"I am a machine, so I don't have feelings, but I am here and \"\n",
      "             'ready to assist you! How can I help you today?',\n",
      "  'role': 'assistant'}]\n"
     ]
    }
   ],
   "source": [
    "convo = start_new_chat(system_prompt, \"What's the sum of 5 and 9? What's the sum of 8 and 5?\")\n",
    "pp.pprint(convo)"
   ]
  },
  {
   "cell_type": "code",
   "execution_count": 177,
   "id": "95df73e6",
   "metadata": {},
   "outputs": [
    {
     "name": "stdout",
     "output_type": "stream",
     "text": [
      "[{'content': 'You are a helpful assistant with the ability to have private '\n",
      "             'thoughts, and those private \\n'\n",
      "             'thoughts can execute a limited subset of Python code by wrapping '\n",
      "             'it in <eval></eval> tags. \\n'\n",
      "             '\\n'\n",
      "             'To have a private thought, begin your response with THOUGHT:. '\n",
      "             'The result of your thought will be provided, \\n'\n",
      "             'begging with RESULT:. Thoughts and their results will not be '\n",
      "             'shown to the end user. Your thoughts may execute\\n'\n",
      "             'a limited subset of Python code including basic operations '\n",
      "             'allowed by the asteval package, and a few additional\\n'\n",
      "             'functions, by wrapping it in <eval></eval> tags.\\n'\n",
      "             '\\n'\n",
      "             'The following additional functions are available:\\n'\n",
      "             '- say_hi(name): returns a greeting to a person with a given '\n",
      "             'name\\n'\n",
      "             '- say_goodby(name): returns a farewell message to a person with '\n",
      "             'a given name\\n'\n",
      "             '\\n'\n",
      "             'Here is an example:\\n'\n",
      "             '\\n'\n",
      "             'user: Hi, my name is Shawn!\\n'\n",
      "             'assistant: THOUGHT: I need to compute '\n",
      "             '<eval>say_hi(\"Shawn\")</eval>\\n'\n",
      "             'user: RESULT: I need to compute Howdy, Shawn!\\n'\n",
      "             'assistant: Howdy, Shawn! How are you today?\\n',\n",
      "  'role': 'system'},\n",
      " {'content': 'Hi! How are you?', 'role': 'user'},\n",
      " {'content': \"I am a machine, so I don't have feelings, but I am here and \"\n",
      "             'ready to assist you! How can I help you today?',\n",
      "  'role': 'assistant'},\n",
      " {'content': 'My name is Bob, by the way.', 'role': 'user'},\n",
      " {'content': 'Nice to meet you, Bob! How can I assist you today?',\n",
      "  'role': 'assistant'},\n",
      " {'content': 'My name is Bob, by the way.', 'role': 'user'},\n",
      " {'content': 'Hello again, Bob! Is there something specific you would like me '\n",
      "             'to help you with?',\n",
      "  'role': 'assistant'}]\n"
     ]
    }
   ],
   "source": [
    "convo = continue_chat(convo, \"What is the product of the previous two answers?\")\n",
    "pp.pprint(convo)"
   ]
  }
 ],
 "metadata": {
  "kernelspec": {
   "display_name": "Python 3 (ipykernel)",
   "language": "python",
   "name": "python3"
  },
  "language_info": {
   "codemirror_mode": {
    "name": "ipython",
    "version": 3
   },
   "file_extension": ".py",
   "mimetype": "text/x-python",
   "name": "python",
   "nbconvert_exporter": "python",
   "pygments_lexer": "ipython3",
   "version": "3.10.9"
  }
 },
 "nbformat": 4,
 "nbformat_minor": 5
}

{
 "cells": [
  {
   "cell_type": "markdown",
   "metadata": {},
   "source": [
    "## langchain.chains.OpenApiEndpointChain\n",
    "\n",
    "This seems to be a slightly more advanced API calling utility, which reads an OpenAPI spec. You can define \"operations\" from endpoints, but I'm not sure how to use multiple operations with planning, or if this is possible."
   ]
  },
  {
   "cell_type": "code",
   "execution_count": 1,
   "metadata": {},
   "outputs": [],
   "source": [
    "from langchain.tools import OpenAPISpec, APIOperation\n",
    "from langchain.chains import OpenAPIEndpointChain\n",
    "from langchain.requests import Requests\n",
    "from langchain.chat_models import ChatOpenAI\n",
    "from langchain.agents.agent_toolkits.openapi.spec import reduce_openapi_spec\n",
    "\n",
    "import dotenv\n",
    "import pprint\n",
    "\n",
    "dotenv.load_dotenv()\n",
    "\n",
    "pp = pprint.PrettyPrinter(indent=4)"
   ]
  },
  {
   "cell_type": "markdown",
   "metadata": {},
   "source": [
    "Read the spec, create operations for endpoints, create a new chain."
   ]
  },
  {
   "cell_type": "code",
   "execution_count": 2,
   "metadata": {},
   "outputs": [
    {
     "name": "stderr",
     "output_type": "stream",
     "text": [
      "Attempting to load an OpenAPI 3.0.2 spec.  This may result in degraded performance. Convert your OpenAPI spec to 3.1.* spec for better support.\n"
     ]
    }
   ],
   "source": [
    "spec = OpenAPISpec.from_file(\"openapi.json\")\n",
    "\n",
    "search_op = APIOperation.from_openapi_spec(spec, '/search', \"get\")\n",
    "#d2p_op = APIOperation.from_openapi_spec(spec, '/disease-phenotypes', \"get\") # not used\n",
    "\n",
    "llm = ChatOpenAI(model = \"gpt-4\") # Load a Language Model\n",
    "\n",
    "chain = OpenAPIEndpointChain.from_api_operation(\n",
    "    search_op, \n",
    "    llm, \n",
    "    requests=Requests(), \n",
    "    verbose=True,\n",
    "    return_intermediate_steps=True # Return request and response text\n",
    ")\n"
   ]
  },
  {
   "cell_type": "markdown",
   "metadata": {},
   "source": [
    "Run it:"
   ]
  },
  {
   "cell_type": "code",
   "execution_count": null,
   "metadata": {},
   "outputs": [
    {
     "name": "stdout",
     "output_type": "stream",
     "text": [
      "\n",
      "\n",
      "\u001b[1m> Entering new OpenAPIEndpointChain chain...\u001b[0m\n",
      "\n",
      "\n",
      "\u001b[1m> Entering new APIRequesterChain chain...\u001b[0m\n",
      "Prompt after formatting:\n",
      "\u001b[32;1m\u001b[1;3mYou are a helpful AI Assistant. Please provide JSON arguments to agentFunc() based on the user's instructions.\n",
      "\n",
      "API_SCHEMA: ```typescript\n",
      "/* Search for entities in the Monarch knowledge graph */\n",
      "type search_entity = (_: {\n",
      "/* The ontology term to search for. */\n",
      "\t\tterm: string,\n",
      "/* A single category to search within as a string. Valid categories are: biolink:Disease, biolink:PhenotypicQuality, and biolink:Gene */\n",
      "\t\tcategory?: string,\n",
      "/* The maximum number of search results to return. */\n",
      "\t\tlimit?: number,\n",
      "/* Offset for pagination of results */\n",
      "\t\toffset?: number,\n",
      "}) => any;\n",
      "```\n",
      "\n",
      "USER_INSTRUCTIONS: \"What phenotypes are associated with Cystic Fibrosis?\"\n",
      "\n",
      "Your arguments must be plain json provided in a markdown block:\n",
      "\n",
      "ARGS: ```json\n",
      "{valid json conforming to API_SCHEMA}\n",
      "```\n",
      "\n",
      "Example\n",
      "-----\n",
      "\n",
      "ARGS: ```json\n",
      "{\"foo\": \"bar\", \"baz\": {\"qux\": \"quux\"}}\n",
      "```\n",
      "\n",
      "The block must be no more than 1 line long, and all arguments must be valid JSON. All string arguments must be wrapped in double quotes.\n",
      "You MUST strictly comply to the types indicated by the provided schema, including all required args.\n",
      "\n",
      "If you don't have sufficient information to call the function due to things like requiring specific uuid's, you can reply with the following message:\n",
      "\n",
      "Message: ```text\n",
      "Concise response requesting the additional information that would make calling the function successful.\n",
      "```\n",
      "\n",
      "Begin\n",
      "-----\n",
      "ARGS:\n",
      "\u001b[0m\n"
     ]
    }
   ],
   "source": [
    "%%time\n",
    "output = chain(\"What phenotypes are associated with Cystic Fibrosis?\")"
   ]
  },
  {
   "cell_type": "markdown",
   "metadata": {},
   "source": [
    "Notice in the below output there is some gene information that is included from the search results (it defaulted to 10 results)."
   ]
  },
  {
   "cell_type": "code",
   "execution_count": null,
   "metadata": {},
   "outputs": [],
   "source": [
    "pp.pprint(output)"
   ]
  }
 ],
 "metadata": {
  "kernelspec": {
   "display_name": "Python 3 (ipykernel)",
   "language": "python",
   "name": "python3"
  },
  "language_info": {
   "codemirror_mode": {
    "name": "ipython",
    "version": 3
   },
   "file_extension": ".py",
   "mimetype": "text/x-python",
   "name": "python",
   "nbconvert_exporter": "python",
   "pygments_lexer": "ipython3",
   "version": "3.11.2"
  }
 },
 "nbformat": 4,
 "nbformat_minor": 2
}
